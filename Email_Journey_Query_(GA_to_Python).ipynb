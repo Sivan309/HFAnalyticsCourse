{
  "cells": [
    {
      "cell_type": "markdown",
      "metadata": {
        "id": "view-in-github",
        "colab_type": "text"
      },
      "source": [
        "<a href=\"https://colab.research.google.com/github/Sivan309/HFAnalyticsCourse/blob/main/Email_Journey_Query_(GA_to_Python).ipynb\" target=\"_parent\"><img src=\"https://colab.research.google.com/assets/colab-badge.svg\" alt=\"Open In Colab\"/></a>"
      ]
    },
    {
      "cell_type": "code",
      "execution_count": null,
      "metadata": {
        "id": "hnviwvGuKR46"
      },
      "outputs": [],
      "source": [
        "import pandas as pd\n",
        "import numpy as np"
      ]
    },
    {
      "cell_type": "code",
      "execution_count": null,
      "metadata": {
        "id": "y2QosmecKR4_",
        "outputId": "a0f837c0-fc9b-49f2-afdb-1477073d74d2"
      },
      "outputs": [
        {
          "ename": "SSLCertVerificationError",
          "evalue": "[SSL: CERTIFICATE_VERIFY_FAILED] certificate verify failed: unable to get local issuer certificate (_ssl.c:1123)",
          "output_type": "error",
          "traceback": [
            "\u001b[1;31m---------------------------------------------------------------------------\u001b[0m",
            "\u001b[1;31mSSLCertVerificationError\u001b[0m                  Traceback (most recent call last)",
            "\u001b[1;32m<ipython-input-4-bafbfcf15650>\u001b[0m in \u001b[0;36m<module>\u001b[1;34m\u001b[0m\n\u001b[0;32m     96\u001b[0m \u001b[1;33m\u001b[0m\u001b[0m\n\u001b[0;32m     97\u001b[0m \u001b[1;32mif\u001b[0m \u001b[0m__name__\u001b[0m \u001b[1;33m==\u001b[0m \u001b[1;34m'__main__'\u001b[0m\u001b[1;33m:\u001b[0m\u001b[1;33m\u001b[0m\u001b[1;33m\u001b[0m\u001b[0m\n\u001b[1;32m---> 98\u001b[1;33m   \u001b[0mmain\u001b[0m\u001b[1;33m(\u001b[0m\u001b[1;33m)\u001b[0m\u001b[1;33m\u001b[0m\u001b[1;33m\u001b[0m\u001b[0m\n\u001b[0m",
            "\u001b[1;32m<ipython-input-4-bafbfcf15650>\u001b[0m in \u001b[0;36mmain\u001b[1;34m()\u001b[0m\n\u001b[0;32m     91\u001b[0m \u001b[1;33m\u001b[0m\u001b[0m\n\u001b[0;32m     92\u001b[0m     \u001b[0mrows\u001b[0m \u001b[1;33m=\u001b[0m \u001b[1;33m[\u001b[0m\u001b[1;33m]\u001b[0m\u001b[1;33m\u001b[0m\u001b[1;33m\u001b[0m\u001b[0m\n\u001b[1;32m---> 93\u001b[1;33m     \u001b[0mrows\u001b[0m \u001b[1;33m=\u001b[0m \u001b[0mhandle_report\u001b[0m\u001b[1;33m(\u001b[0m\u001b[0manalytics\u001b[0m\u001b[1;33m,\u001b[0m\u001b[1;34m'0'\u001b[0m\u001b[1;33m,\u001b[0m\u001b[0mrows\u001b[0m\u001b[1;33m)\u001b[0m\u001b[1;33m\u001b[0m\u001b[1;33m\u001b[0m\u001b[0m\n\u001b[0m\u001b[0;32m     94\u001b[0m \u001b[1;33m\u001b[0m\u001b[0m\n\u001b[0;32m     95\u001b[0m     \u001b[0mdf1\u001b[0m \u001b[1;33m=\u001b[0m \u001b[0mpd\u001b[0m\u001b[1;33m.\u001b[0m\u001b[0mDataFrame\u001b[0m\u001b[1;33m(\u001b[0m\u001b[0mlist\u001b[0m\u001b[1;33m(\u001b[0m\u001b[0mrows\u001b[0m\u001b[1;33m)\u001b[0m\u001b[1;33m)\u001b[0m\u001b[1;33m\u001b[0m\u001b[1;33m\u001b[0m\u001b[0m\n",
            "\u001b[1;32m<ipython-input-4-bafbfcf15650>\u001b[0m in \u001b[0;36mhandle_report\u001b[1;34m(analytics, pagetoken, rows)\u001b[0m\n\u001b[0;32m     43\u001b[0m \u001b[1;33m\u001b[0m\u001b[0m\n\u001b[0;32m     44\u001b[0m \u001b[1;32mdef\u001b[0m \u001b[0mhandle_report\u001b[0m\u001b[1;33m(\u001b[0m\u001b[0manalytics\u001b[0m\u001b[1;33m,\u001b[0m\u001b[0mpagetoken\u001b[0m\u001b[1;33m,\u001b[0m\u001b[0mrows\u001b[0m\u001b[1;33m)\u001b[0m\u001b[1;33m:\u001b[0m\u001b[1;33m\u001b[0m\u001b[1;33m\u001b[0m\u001b[0m\n\u001b[1;32m---> 45\u001b[1;33m     \u001b[0mresponse\u001b[0m \u001b[1;33m=\u001b[0m \u001b[0mget_report\u001b[0m\u001b[1;33m(\u001b[0m\u001b[0manalytics\u001b[0m\u001b[1;33m,\u001b[0m \u001b[0mpagetoken\u001b[0m\u001b[1;33m)\u001b[0m\u001b[1;33m\u001b[0m\u001b[1;33m\u001b[0m\u001b[0m\n\u001b[0m\u001b[0;32m     46\u001b[0m \u001b[1;33m\u001b[0m\u001b[0m\n\u001b[0;32m     47\u001b[0m     \u001b[1;31m#Header, Dimentions Headers, Metric Headers\u001b[0m\u001b[1;33m\u001b[0m\u001b[1;33m\u001b[0m\u001b[1;33m\u001b[0m\u001b[0m\n",
            "\u001b[1;32m<ipython-input-4-bafbfcf15650>\u001b[0m in \u001b[0;36mget_report\u001b[1;34m(analytics, pageTokenVar)\u001b[0m\n\u001b[0;32m     15\u001b[0m \u001b[1;31m#Get one report page\u001b[0m\u001b[1;33m\u001b[0m\u001b[1;33m\u001b[0m\u001b[1;33m\u001b[0m\u001b[0m\n\u001b[0;32m     16\u001b[0m \u001b[1;32mdef\u001b[0m \u001b[0mget_report\u001b[0m\u001b[1;33m(\u001b[0m\u001b[0manalytics\u001b[0m\u001b[1;33m,\u001b[0m \u001b[0mpageTokenVar\u001b[0m\u001b[1;33m)\u001b[0m\u001b[1;33m:\u001b[0m\u001b[1;33m\u001b[0m\u001b[1;33m\u001b[0m\u001b[0m\n\u001b[1;32m---> 17\u001b[1;33m   return analytics.reports().batchGet(\n\u001b[0m\u001b[0;32m     18\u001b[0m       body={\n\u001b[0;32m     19\u001b[0m         'reportRequests': [\n",
            "\u001b[1;32mC:\\Anaconda3\\lib\\site-packages\\googleapiclient\\_helpers.py\u001b[0m in \u001b[0;36mpositional_wrapper\u001b[1;34m(*args, **kwargs)\u001b[0m\n\u001b[0;32m    129\u001b[0m                 \u001b[1;32melif\u001b[0m \u001b[0mpositional_parameters_enforcement\u001b[0m \u001b[1;33m==\u001b[0m \u001b[0mPOSITIONAL_WARNING\u001b[0m\u001b[1;33m:\u001b[0m\u001b[1;33m\u001b[0m\u001b[1;33m\u001b[0m\u001b[0m\n\u001b[0;32m    130\u001b[0m                     \u001b[0mlogger\u001b[0m\u001b[1;33m.\u001b[0m\u001b[0mwarning\u001b[0m\u001b[1;33m(\u001b[0m\u001b[0mmessage\u001b[0m\u001b[1;33m)\u001b[0m\u001b[1;33m\u001b[0m\u001b[1;33m\u001b[0m\u001b[0m\n\u001b[1;32m--> 131\u001b[1;33m             \u001b[1;32mreturn\u001b[0m \u001b[0mwrapped\u001b[0m\u001b[1;33m(\u001b[0m\u001b[1;33m*\u001b[0m\u001b[0margs\u001b[0m\u001b[1;33m,\u001b[0m \u001b[1;33m**\u001b[0m\u001b[0mkwargs\u001b[0m\u001b[1;33m)\u001b[0m\u001b[1;33m\u001b[0m\u001b[1;33m\u001b[0m\u001b[0m\n\u001b[0m\u001b[0;32m    132\u001b[0m \u001b[1;33m\u001b[0m\u001b[0m\n\u001b[0;32m    133\u001b[0m         \u001b[1;32mreturn\u001b[0m \u001b[0mpositional_wrapper\u001b[0m\u001b[1;33m\u001b[0m\u001b[1;33m\u001b[0m\u001b[0m\n",
            "\u001b[1;32mC:\\Anaconda3\\lib\\site-packages\\googleapiclient\\http.py\u001b[0m in \u001b[0;36mexecute\u001b[1;34m(self, http, num_retries)\u001b[0m\n\u001b[0;32m    920\u001b[0m \u001b[1;33m\u001b[0m\u001b[0m\n\u001b[0;32m    921\u001b[0m         \u001b[1;31m# Handle retries for server-side errors.\u001b[0m\u001b[1;33m\u001b[0m\u001b[1;33m\u001b[0m\u001b[1;33m\u001b[0m\u001b[0m\n\u001b[1;32m--> 922\u001b[1;33m         resp, content = _retry_request(\n\u001b[0m\u001b[0;32m    923\u001b[0m             \u001b[0mhttp\u001b[0m\u001b[1;33m,\u001b[0m\u001b[1;33m\u001b[0m\u001b[1;33m\u001b[0m\u001b[0m\n\u001b[0;32m    924\u001b[0m             \u001b[0mnum_retries\u001b[0m\u001b[1;33m,\u001b[0m\u001b[1;33m\u001b[0m\u001b[1;33m\u001b[0m\u001b[0m\n",
            "\u001b[1;32mC:\\Anaconda3\\lib\\site-packages\\googleapiclient\\http.py\u001b[0m in \u001b[0;36m_retry_request\u001b[1;34m(http, num_retries, req_type, sleep, rand, uri, method, *args, **kwargs)\u001b[0m\n\u001b[0;32m    219\u001b[0m         \u001b[1;32mif\u001b[0m \u001b[0mexception\u001b[0m\u001b[1;33m:\u001b[0m\u001b[1;33m\u001b[0m\u001b[1;33m\u001b[0m\u001b[0m\n\u001b[0;32m    220\u001b[0m             \u001b[1;32mif\u001b[0m \u001b[0mretry_num\u001b[0m \u001b[1;33m==\u001b[0m \u001b[0mnum_retries\u001b[0m\u001b[1;33m:\u001b[0m\u001b[1;33m\u001b[0m\u001b[1;33m\u001b[0m\u001b[0m\n\u001b[1;32m--> 221\u001b[1;33m                 \u001b[1;32mraise\u001b[0m \u001b[0mexception\u001b[0m\u001b[1;33m\u001b[0m\u001b[1;33m\u001b[0m\u001b[0m\n\u001b[0m\u001b[0;32m    222\u001b[0m             \u001b[1;32melse\u001b[0m\u001b[1;33m:\u001b[0m\u001b[1;33m\u001b[0m\u001b[1;33m\u001b[0m\u001b[0m\n\u001b[0;32m    223\u001b[0m                 \u001b[1;32mcontinue\u001b[0m\u001b[1;33m\u001b[0m\u001b[1;33m\u001b[0m\u001b[0m\n",
            "\u001b[1;32mC:\\Anaconda3\\lib\\site-packages\\googleapiclient\\http.py\u001b[0m in \u001b[0;36m_retry_request\u001b[1;34m(http, num_retries, req_type, sleep, rand, uri, method, *args, **kwargs)\u001b[0m\n\u001b[0;32m    188\u001b[0m         \u001b[1;32mtry\u001b[0m\u001b[1;33m:\u001b[0m\u001b[1;33m\u001b[0m\u001b[1;33m\u001b[0m\u001b[0m\n\u001b[0;32m    189\u001b[0m             \u001b[0mexception\u001b[0m \u001b[1;33m=\u001b[0m \u001b[1;32mNone\u001b[0m\u001b[1;33m\u001b[0m\u001b[1;33m\u001b[0m\u001b[0m\n\u001b[1;32m--> 190\u001b[1;33m             \u001b[0mresp\u001b[0m\u001b[1;33m,\u001b[0m \u001b[0mcontent\u001b[0m \u001b[1;33m=\u001b[0m \u001b[0mhttp\u001b[0m\u001b[1;33m.\u001b[0m\u001b[0mrequest\u001b[0m\u001b[1;33m(\u001b[0m\u001b[0muri\u001b[0m\u001b[1;33m,\u001b[0m \u001b[0mmethod\u001b[0m\u001b[1;33m,\u001b[0m \u001b[1;33m*\u001b[0m\u001b[0margs\u001b[0m\u001b[1;33m,\u001b[0m \u001b[1;33m**\u001b[0m\u001b[0mkwargs\u001b[0m\u001b[1;33m)\u001b[0m\u001b[1;33m\u001b[0m\u001b[1;33m\u001b[0m\u001b[0m\n\u001b[0m\u001b[0;32m    191\u001b[0m         \u001b[1;31m# Retry on SSL errors and socket timeout errors.\u001b[0m\u001b[1;33m\u001b[0m\u001b[1;33m\u001b[0m\u001b[1;33m\u001b[0m\u001b[0m\n\u001b[0;32m    192\u001b[0m         \u001b[1;32mexcept\u001b[0m \u001b[0m_ssl_SSLError\u001b[0m \u001b[1;32mas\u001b[0m \u001b[0mssl_error\u001b[0m\u001b[1;33m:\u001b[0m\u001b[1;33m\u001b[0m\u001b[1;33m\u001b[0m\u001b[0m\n",
            "\u001b[1;32mC:\\Anaconda3\\lib\\site-packages\\oauth2client\\transport.py\u001b[0m in \u001b[0;36mnew_request\u001b[1;34m(uri, method, body, headers, redirections, connection_type)\u001b[0m\n\u001b[0;32m    157\u001b[0m             _LOGGER.info('Attempting refresh to obtain '\n\u001b[0;32m    158\u001b[0m                          'initial access_token')\n\u001b[1;32m--> 159\u001b[1;33m             \u001b[0mcredentials\u001b[0m\u001b[1;33m.\u001b[0m\u001b[0m_refresh\u001b[0m\u001b[1;33m(\u001b[0m\u001b[0morig_request_method\u001b[0m\u001b[1;33m)\u001b[0m\u001b[1;33m\u001b[0m\u001b[1;33m\u001b[0m\u001b[0m\n\u001b[0m\u001b[0;32m    160\u001b[0m \u001b[1;33m\u001b[0m\u001b[0m\n\u001b[0;32m    161\u001b[0m         \u001b[1;31m# Clone and modify the request headers to add the appropriate\u001b[0m\u001b[1;33m\u001b[0m\u001b[1;33m\u001b[0m\u001b[1;33m\u001b[0m\u001b[0m\n",
            "\u001b[1;32mC:\\Anaconda3\\lib\\site-packages\\oauth2client\\client.py\u001b[0m in \u001b[0;36m_refresh\u001b[1;34m(self, http)\u001b[0m\n\u001b[0;32m    747\u001b[0m         \"\"\"\n\u001b[0;32m    748\u001b[0m         \u001b[1;32mif\u001b[0m \u001b[1;32mnot\u001b[0m \u001b[0mself\u001b[0m\u001b[1;33m.\u001b[0m\u001b[0mstore\u001b[0m\u001b[1;33m:\u001b[0m\u001b[1;33m\u001b[0m\u001b[1;33m\u001b[0m\u001b[0m\n\u001b[1;32m--> 749\u001b[1;33m             \u001b[0mself\u001b[0m\u001b[1;33m.\u001b[0m\u001b[0m_do_refresh_request\u001b[0m\u001b[1;33m(\u001b[0m\u001b[0mhttp\u001b[0m\u001b[1;33m)\u001b[0m\u001b[1;33m\u001b[0m\u001b[1;33m\u001b[0m\u001b[0m\n\u001b[0m\u001b[0;32m    750\u001b[0m         \u001b[1;32melse\u001b[0m\u001b[1;33m:\u001b[0m\u001b[1;33m\u001b[0m\u001b[1;33m\u001b[0m\u001b[0m\n\u001b[0;32m    751\u001b[0m             \u001b[0mself\u001b[0m\u001b[1;33m.\u001b[0m\u001b[0mstore\u001b[0m\u001b[1;33m.\u001b[0m\u001b[0macquire_lock\u001b[0m\u001b[1;33m(\u001b[0m\u001b[1;33m)\u001b[0m\u001b[1;33m\u001b[0m\u001b[1;33m\u001b[0m\u001b[0m\n",
            "\u001b[1;32mC:\\Anaconda3\\lib\\site-packages\\oauth2client\\client.py\u001b[0m in \u001b[0;36m_do_refresh_request\u001b[1;34m(self, http)\u001b[0m\n\u001b[0;32m    776\u001b[0m \u001b[1;33m\u001b[0m\u001b[0m\n\u001b[0;32m    777\u001b[0m         \u001b[0mlogger\u001b[0m\u001b[1;33m.\u001b[0m\u001b[0minfo\u001b[0m\u001b[1;33m(\u001b[0m\u001b[1;34m'Refreshing access_token'\u001b[0m\u001b[1;33m)\u001b[0m\u001b[1;33m\u001b[0m\u001b[1;33m\u001b[0m\u001b[0m\n\u001b[1;32m--> 778\u001b[1;33m         resp, content = transport.request(\n\u001b[0m\u001b[0;32m    779\u001b[0m             \u001b[0mhttp\u001b[0m\u001b[1;33m,\u001b[0m \u001b[0mself\u001b[0m\u001b[1;33m.\u001b[0m\u001b[0mtoken_uri\u001b[0m\u001b[1;33m,\u001b[0m \u001b[0mmethod\u001b[0m\u001b[1;33m=\u001b[0m\u001b[1;34m'POST'\u001b[0m\u001b[1;33m,\u001b[0m\u001b[1;33m\u001b[0m\u001b[1;33m\u001b[0m\u001b[0m\n\u001b[0;32m    780\u001b[0m             body=body, headers=headers)\n",
            "\u001b[1;32mC:\\Anaconda3\\lib\\site-packages\\oauth2client\\transport.py\u001b[0m in \u001b[0;36mrequest\u001b[1;34m(http, uri, method, body, headers, redirections, connection_type)\u001b[0m\n\u001b[0;32m    278\u001b[0m     \u001b[1;31m# NOTE: Allowing http or http.request is temporary (See Issue 601).\u001b[0m\u001b[1;33m\u001b[0m\u001b[1;33m\u001b[0m\u001b[1;33m\u001b[0m\u001b[0m\n\u001b[0;32m    279\u001b[0m     \u001b[0mhttp_callable\u001b[0m \u001b[1;33m=\u001b[0m \u001b[0mgetattr\u001b[0m\u001b[1;33m(\u001b[0m\u001b[0mhttp\u001b[0m\u001b[1;33m,\u001b[0m \u001b[1;34m'request'\u001b[0m\u001b[1;33m,\u001b[0m \u001b[0mhttp\u001b[0m\u001b[1;33m)\u001b[0m\u001b[1;33m\u001b[0m\u001b[1;33m\u001b[0m\u001b[0m\n\u001b[1;32m--> 280\u001b[1;33m     return http_callable(uri, method=method, body=body, headers=headers,\n\u001b[0m\u001b[0;32m    281\u001b[0m                          \u001b[0mredirections\u001b[0m\u001b[1;33m=\u001b[0m\u001b[0mredirections\u001b[0m\u001b[1;33m,\u001b[0m\u001b[1;33m\u001b[0m\u001b[1;33m\u001b[0m\u001b[0m\n\u001b[0;32m    282\u001b[0m                          connection_type=connection_type)\n",
            "\u001b[1;32mC:\\Anaconda3\\lib\\site-packages\\httplib2\\__init__.py\u001b[0m in \u001b[0;36mrequest\u001b[1;34m(self, uri, method, body, headers, redirections, connection_type)\u001b[0m\n\u001b[0;32m   1706\u001b[0m                     \u001b[0mcontent\u001b[0m \u001b[1;33m=\u001b[0m \u001b[1;34mb\"\"\u001b[0m\u001b[1;33m\u001b[0m\u001b[1;33m\u001b[0m\u001b[0m\n\u001b[0;32m   1707\u001b[0m                 \u001b[1;32melse\u001b[0m\u001b[1;33m:\u001b[0m\u001b[1;33m\u001b[0m\u001b[1;33m\u001b[0m\u001b[0m\n\u001b[1;32m-> 1708\u001b[1;33m                     (response, content) = self._request(\n\u001b[0m\u001b[0;32m   1709\u001b[0m                         \u001b[0mconn\u001b[0m\u001b[1;33m,\u001b[0m \u001b[0mauthority\u001b[0m\u001b[1;33m,\u001b[0m \u001b[0muri\u001b[0m\u001b[1;33m,\u001b[0m \u001b[0mrequest_uri\u001b[0m\u001b[1;33m,\u001b[0m \u001b[0mmethod\u001b[0m\u001b[1;33m,\u001b[0m \u001b[0mbody\u001b[0m\u001b[1;33m,\u001b[0m \u001b[0mheaders\u001b[0m\u001b[1;33m,\u001b[0m \u001b[0mredirections\u001b[0m\u001b[1;33m,\u001b[0m \u001b[0mcachekey\u001b[0m\u001b[1;33m,\u001b[0m\u001b[1;33m\u001b[0m\u001b[1;33m\u001b[0m\u001b[0m\n\u001b[0;32m   1710\u001b[0m                     )\n",
            "\u001b[1;32mC:\\Anaconda3\\lib\\site-packages\\httplib2\\__init__.py\u001b[0m in \u001b[0;36m_request\u001b[1;34m(self, conn, host, absolute_uri, request_uri, method, body, headers, redirections, cachekey)\u001b[0m\n\u001b[0;32m   1422\u001b[0m             \u001b[0mauth\u001b[0m\u001b[1;33m.\u001b[0m\u001b[0mrequest\u001b[0m\u001b[1;33m(\u001b[0m\u001b[0mmethod\u001b[0m\u001b[1;33m,\u001b[0m \u001b[0mrequest_uri\u001b[0m\u001b[1;33m,\u001b[0m \u001b[0mheaders\u001b[0m\u001b[1;33m,\u001b[0m \u001b[0mbody\u001b[0m\u001b[1;33m)\u001b[0m\u001b[1;33m\u001b[0m\u001b[1;33m\u001b[0m\u001b[0m\n\u001b[0;32m   1423\u001b[0m \u001b[1;33m\u001b[0m\u001b[0m\n\u001b[1;32m-> 1424\u001b[1;33m         \u001b[1;33m(\u001b[0m\u001b[0mresponse\u001b[0m\u001b[1;33m,\u001b[0m \u001b[0mcontent\u001b[0m\u001b[1;33m)\u001b[0m \u001b[1;33m=\u001b[0m \u001b[0mself\u001b[0m\u001b[1;33m.\u001b[0m\u001b[0m_conn_request\u001b[0m\u001b[1;33m(\u001b[0m\u001b[0mconn\u001b[0m\u001b[1;33m,\u001b[0m \u001b[0mrequest_uri\u001b[0m\u001b[1;33m,\u001b[0m \u001b[0mmethod\u001b[0m\u001b[1;33m,\u001b[0m \u001b[0mbody\u001b[0m\u001b[1;33m,\u001b[0m \u001b[0mheaders\u001b[0m\u001b[1;33m)\u001b[0m\u001b[1;33m\u001b[0m\u001b[1;33m\u001b[0m\u001b[0m\n\u001b[0m\u001b[0;32m   1425\u001b[0m \u001b[1;33m\u001b[0m\u001b[0m\n\u001b[0;32m   1426\u001b[0m         \u001b[1;32mif\u001b[0m \u001b[0mauth\u001b[0m\u001b[1;33m:\u001b[0m\u001b[1;33m\u001b[0m\u001b[1;33m\u001b[0m\u001b[0m\n",
            "\u001b[1;32mC:\\Anaconda3\\lib\\site-packages\\httplib2\\__init__.py\u001b[0m in \u001b[0;36m_conn_request\u001b[1;34m(self, conn, request_uri, method, body, headers)\u001b[0m\n\u001b[0;32m   1344\u001b[0m             \u001b[1;32mtry\u001b[0m\u001b[1;33m:\u001b[0m\u001b[1;33m\u001b[0m\u001b[1;33m\u001b[0m\u001b[0m\n\u001b[0;32m   1345\u001b[0m                 \u001b[1;32mif\u001b[0m \u001b[0mconn\u001b[0m\u001b[1;33m.\u001b[0m\u001b[0msock\u001b[0m \u001b[1;32mis\u001b[0m \u001b[1;32mNone\u001b[0m\u001b[1;33m:\u001b[0m\u001b[1;33m\u001b[0m\u001b[1;33m\u001b[0m\u001b[0m\n\u001b[1;32m-> 1346\u001b[1;33m                     \u001b[0mconn\u001b[0m\u001b[1;33m.\u001b[0m\u001b[0mconnect\u001b[0m\u001b[1;33m(\u001b[0m\u001b[1;33m)\u001b[0m\u001b[1;33m\u001b[0m\u001b[1;33m\u001b[0m\u001b[0m\n\u001b[0m\u001b[0;32m   1347\u001b[0m                 \u001b[0mconn\u001b[0m\u001b[1;33m.\u001b[0m\u001b[0mrequest\u001b[0m\u001b[1;33m(\u001b[0m\u001b[0mmethod\u001b[0m\u001b[1;33m,\u001b[0m \u001b[0mrequest_uri\u001b[0m\u001b[1;33m,\u001b[0m \u001b[0mbody\u001b[0m\u001b[1;33m,\u001b[0m \u001b[0mheaders\u001b[0m\u001b[1;33m)\u001b[0m\u001b[1;33m\u001b[0m\u001b[1;33m\u001b[0m\u001b[0m\n\u001b[0;32m   1348\u001b[0m             \u001b[1;32mexcept\u001b[0m \u001b[0msocket\u001b[0m\u001b[1;33m.\u001b[0m\u001b[0mtimeout\u001b[0m\u001b[1;33m:\u001b[0m\u001b[1;33m\u001b[0m\u001b[1;33m\u001b[0m\u001b[0m\n",
            "\u001b[1;32mC:\\Anaconda3\\lib\\site-packages\\httplib2\\__init__.py\u001b[0m in \u001b[0;36mconnect\u001b[1;34m(self)\u001b[0m\n\u001b[0;32m   1136\u001b[0m                 \u001b[0msock\u001b[0m\u001b[1;33m.\u001b[0m\u001b[0mconnect\u001b[0m\u001b[1;33m(\u001b[0m\u001b[1;33m(\u001b[0m\u001b[0mself\u001b[0m\u001b[1;33m.\u001b[0m\u001b[0mhost\u001b[0m\u001b[1;33m,\u001b[0m \u001b[0mself\u001b[0m\u001b[1;33m.\u001b[0m\u001b[0mport\u001b[0m\u001b[1;33m)\u001b[0m\u001b[1;33m)\u001b[0m\u001b[1;33m\u001b[0m\u001b[1;33m\u001b[0m\u001b[0m\n\u001b[0;32m   1137\u001b[0m \u001b[1;33m\u001b[0m\u001b[0m\n\u001b[1;32m-> 1138\u001b[1;33m                 \u001b[0mself\u001b[0m\u001b[1;33m.\u001b[0m\u001b[0msock\u001b[0m \u001b[1;33m=\u001b[0m \u001b[0mself\u001b[0m\u001b[1;33m.\u001b[0m\u001b[0m_context\u001b[0m\u001b[1;33m.\u001b[0m\u001b[0mwrap_socket\u001b[0m\u001b[1;33m(\u001b[0m\u001b[0msock\u001b[0m\u001b[1;33m,\u001b[0m \u001b[0mserver_hostname\u001b[0m\u001b[1;33m=\u001b[0m\u001b[0mself\u001b[0m\u001b[1;33m.\u001b[0m\u001b[0mhost\u001b[0m\u001b[1;33m)\u001b[0m\u001b[1;33m\u001b[0m\u001b[1;33m\u001b[0m\u001b[0m\n\u001b[0m\u001b[0;32m   1139\u001b[0m \u001b[1;33m\u001b[0m\u001b[0m\n\u001b[0;32m   1140\u001b[0m                 \u001b[1;31m# Python 3.3 compatibility: emulate the check_hostname behavior\u001b[0m\u001b[1;33m\u001b[0m\u001b[1;33m\u001b[0m\u001b[1;33m\u001b[0m\u001b[0m\n",
            "\u001b[1;32mC:\\Anaconda3\\lib\\ssl.py\u001b[0m in \u001b[0;36mwrap_socket\u001b[1;34m(self, sock, server_side, do_handshake_on_connect, suppress_ragged_eofs, server_hostname, session)\u001b[0m\n\u001b[0;32m    498\u001b[0m         \u001b[1;31m# SSLSocket class handles server_hostname encoding before it calls\u001b[0m\u001b[1;33m\u001b[0m\u001b[1;33m\u001b[0m\u001b[1;33m\u001b[0m\u001b[0m\n\u001b[0;32m    499\u001b[0m         \u001b[1;31m# ctx._wrap_socket()\u001b[0m\u001b[1;33m\u001b[0m\u001b[1;33m\u001b[0m\u001b[1;33m\u001b[0m\u001b[0m\n\u001b[1;32m--> 500\u001b[1;33m         return self.sslsocket_class._create(\n\u001b[0m\u001b[0;32m    501\u001b[0m             \u001b[0msock\u001b[0m\u001b[1;33m=\u001b[0m\u001b[0msock\u001b[0m\u001b[1;33m,\u001b[0m\u001b[1;33m\u001b[0m\u001b[1;33m\u001b[0m\u001b[0m\n\u001b[0;32m    502\u001b[0m             \u001b[0mserver_side\u001b[0m\u001b[1;33m=\u001b[0m\u001b[0mserver_side\u001b[0m\u001b[1;33m,\u001b[0m\u001b[1;33m\u001b[0m\u001b[1;33m\u001b[0m\u001b[0m\n",
            "\u001b[1;32mC:\\Anaconda3\\lib\\ssl.py\u001b[0m in \u001b[0;36m_create\u001b[1;34m(cls, sock, server_side, do_handshake_on_connect, suppress_ragged_eofs, server_hostname, context, session)\u001b[0m\n\u001b[0;32m   1038\u001b[0m                         \u001b[1;31m# non-blocking\u001b[0m\u001b[1;33m\u001b[0m\u001b[1;33m\u001b[0m\u001b[1;33m\u001b[0m\u001b[0m\n\u001b[0;32m   1039\u001b[0m                         \u001b[1;32mraise\u001b[0m \u001b[0mValueError\u001b[0m\u001b[1;33m(\u001b[0m\u001b[1;34m\"do_handshake_on_connect should not be specified for non-blocking sockets\"\u001b[0m\u001b[1;33m)\u001b[0m\u001b[1;33m\u001b[0m\u001b[1;33m\u001b[0m\u001b[0m\n\u001b[1;32m-> 1040\u001b[1;33m                     \u001b[0mself\u001b[0m\u001b[1;33m.\u001b[0m\u001b[0mdo_handshake\u001b[0m\u001b[1;33m(\u001b[0m\u001b[1;33m)\u001b[0m\u001b[1;33m\u001b[0m\u001b[1;33m\u001b[0m\u001b[0m\n\u001b[0m\u001b[0;32m   1041\u001b[0m             \u001b[1;32mexcept\u001b[0m \u001b[1;33m(\u001b[0m\u001b[0mOSError\u001b[0m\u001b[1;33m,\u001b[0m \u001b[0mValueError\u001b[0m\u001b[1;33m)\u001b[0m\u001b[1;33m:\u001b[0m\u001b[1;33m\u001b[0m\u001b[1;33m\u001b[0m\u001b[0m\n\u001b[0;32m   1042\u001b[0m                 \u001b[0mself\u001b[0m\u001b[1;33m.\u001b[0m\u001b[0mclose\u001b[0m\u001b[1;33m(\u001b[0m\u001b[1;33m)\u001b[0m\u001b[1;33m\u001b[0m\u001b[1;33m\u001b[0m\u001b[0m\n",
            "\u001b[1;32mC:\\Anaconda3\\lib\\ssl.py\u001b[0m in \u001b[0;36mdo_handshake\u001b[1;34m(self, block)\u001b[0m\n\u001b[0;32m   1307\u001b[0m             \u001b[1;32mif\u001b[0m \u001b[0mtimeout\u001b[0m \u001b[1;33m==\u001b[0m \u001b[1;36m0.0\u001b[0m \u001b[1;32mand\u001b[0m \u001b[0mblock\u001b[0m\u001b[1;33m:\u001b[0m\u001b[1;33m\u001b[0m\u001b[1;33m\u001b[0m\u001b[0m\n\u001b[0;32m   1308\u001b[0m                 \u001b[0mself\u001b[0m\u001b[1;33m.\u001b[0m\u001b[0msettimeout\u001b[0m\u001b[1;33m(\u001b[0m\u001b[1;32mNone\u001b[0m\u001b[1;33m)\u001b[0m\u001b[1;33m\u001b[0m\u001b[1;33m\u001b[0m\u001b[0m\n\u001b[1;32m-> 1309\u001b[1;33m             \u001b[0mself\u001b[0m\u001b[1;33m.\u001b[0m\u001b[0m_sslobj\u001b[0m\u001b[1;33m.\u001b[0m\u001b[0mdo_handshake\u001b[0m\u001b[1;33m(\u001b[0m\u001b[1;33m)\u001b[0m\u001b[1;33m\u001b[0m\u001b[1;33m\u001b[0m\u001b[0m\n\u001b[0m\u001b[0;32m   1310\u001b[0m         \u001b[1;32mfinally\u001b[0m\u001b[1;33m:\u001b[0m\u001b[1;33m\u001b[0m\u001b[1;33m\u001b[0m\u001b[0m\n\u001b[0;32m   1311\u001b[0m             \u001b[0mself\u001b[0m\u001b[1;33m.\u001b[0m\u001b[0msettimeout\u001b[0m\u001b[1;33m(\u001b[0m\u001b[0mtimeout\u001b[0m\u001b[1;33m)\u001b[0m\u001b[1;33m\u001b[0m\u001b[1;33m\u001b[0m\u001b[0m\n",
            "\u001b[1;31mSSLCertVerificationError\u001b[0m: [SSL: CERTIFICATE_VERIFY_FAILED] certificate verify failed: unable to get local issuer certificate (_ssl.c:1123)"
          ]
        }
      ],
      "source": [
        "#Data for Medicare LSE\n",
        "from apiclient.discovery import build\n",
        "from oauth2client.service_account import ServiceAccountCredentials\n",
        "\n",
        "SCOPES = ['https://www.googleapis.com/auth/analytics.readonly']\n",
        "KEY_FILE_LOCATION = './sivatest-328113-e20c58bed4da.json'\n",
        "VIEW_ID = '227537175'\n",
        "\n",
        "def initialize_analyticsreporting():\n",
        "  credentials = ServiceAccountCredentials.from_json_keyfile_name(\n",
        "      KEY_FILE_LOCATION, SCOPES)\n",
        "  analytics = build('analyticsreporting', 'v4', credentials=credentials)\n",
        "  return analytics\n",
        "\n",
        "#Get one report page\n",
        "def get_report(analytics, pageTokenVar):\n",
        "  return analytics.reports().batchGet(\n",
        "      body={\n",
        "        'reportRequests': [\n",
        "        {\n",
        "          'viewId': VIEW_ID,\n",
        "            #Change Date Rate as needed\n",
        "          'dateRanges': [{'startDate': '2022-02-09', 'endDate': 'yesterday'}],\n",
        "          'metrics': [{'expression': 'ga:sessions'}, {'expression': 'ga:bounces'}, {'expression': 'ga:pageviews'}, {'expression': 'ga:uniquepageviews'},{'expression': 'ga:timeonpage'}, {'expression': 'ga:avgsessionDuration'}],\n",
        "          'dimensions': [{'name': 'ga:date'}, {'name': 'ga:campaign'}, {'name': 'ga:pagepath'}, {'name': 'ga:devicecategory'}, {'name': 'ga:usertype'}],\n",
        "             \"dimensionFilterClauses\":[\n",
        "                {\n",
        "                   \"operator\":\"AND\",\n",
        "                   \"filters\":[\n",
        "                      {\n",
        "                         \"dimensionName\":\"ga:campaign\",\n",
        "                         \"operator\":\"REGEXP\",\n",
        "                         \"expressions\":[\n",
        "                            '00152104|00152102|14731901|10112001'\n",
        "                        ]\n",
        "                      }\n",
        "                   ]\n",
        "                }\n",
        "             ],\n",
        "        }]\n",
        "      }\n",
        "  ).execute()\n",
        "    \n",
        "def handle_report(analytics,pagetoken,rows):  \n",
        "    response = get_report(analytics, pagetoken)\n",
        "\n",
        "    #Header, Dimentions Headers, Metric Headers \n",
        "    columnHeader = response.get(\"reports\")[0].get('columnHeader', {})\n",
        "    dimensionHeaders = columnHeader.get('dimensions', [])\n",
        "    metricHeaders = columnHeader.get('metricHeader', {}).get('metricHeaderEntries', [])\n",
        "\n",
        "    #Pagination\n",
        "    pagetoken = response.get(\"reports\")[0].get('nextPageToken', None)\n",
        "    \n",
        "    #Rows\n",
        "    rowsNew = response.get(\"reports\")[0].get('data', {}).get('rows', [])\n",
        "    rows = rows + rowsNew\n",
        "    print(\"len(rows): \" + str(len(rows)))\n",
        "\n",
        "    #Recursivly query next page\n",
        "    if pagetoken != None:\n",
        "        return handle_report(analytics,pagetoken,rows)\n",
        "    else:\n",
        "        #nicer results\n",
        "        nicerows=[]\n",
        "        for row in rows:\n",
        "            dic={}\n",
        "            dimensions = row.get('dimensions', [])\n",
        "            dateRangeValues = row.get('metrics', [])\n",
        "\n",
        "            for header, dimension in zip(dimensionHeaders, dimensions):\n",
        "                dic[header] = dimension\n",
        "\n",
        "            for i, values in enumerate(dateRangeValues):\n",
        "                for metric, value in zip(metricHeaders, values.get('values')):\n",
        "                    if ',' in value or ',' in value:\n",
        "                        dic[metric.get('name')] = float(value)\n",
        "                    if '.' in value or '.' in value:\n",
        "                        dic[metric.get('name')] = str(value)\n",
        "                    else:\n",
        "                        dic[metric.get('name')] = int(value)\n",
        "            nicerows.append(dic)\n",
        "        return nicerows\n",
        "\n",
        "#Start\n",
        "def main():    \n",
        "    analytics = initialize_analyticsreporting()\n",
        "    \n",
        "    global df1\n",
        "    df1 = []\n",
        "\n",
        "    rows = []\n",
        "    rows = handle_report(analytics,'0',rows)\n",
        "\n",
        "    df1 = pd.DataFrame(list(rows))\n",
        "\n",
        "if __name__ == '__main__':\n",
        "  main()\n"
      ]
    },
    {
      "cell_type": "code",
      "execution_count": null,
      "metadata": {
        "id": "TmeAo4DeKR5I",
        "outputId": "3c3cfe1c-79f4-4bc9-ba1b-ab5002712f4e"
      },
      "outputs": [
        {
          "name": "stdout",
          "output_type": "stream",
          "text": [
            "C:\\Anaconda3\\lib\\site-packages\\certifi\\cacert.pem\n"
          ]
        }
      ],
      "source": [
        "import requests as r \n",
        "print(r.certs.where())"
      ]
    },
    {
      "cell_type": "code",
      "execution_count": null,
      "metadata": {
        "id": "bPXmh7WBKR5M"
      },
      "outputs": [],
      "source": [
        "#rename columns \n",
        "df = df1.rename(columns={'ga:bounces':'Bounces','ga:date' : 'Date', 'ga:campaign' : 'Campaign','ga:pagepath': 'Page', 'ga:usertype': 'User Type', 'ga:devicecategory': 'Device Category', 'ga:sessions': 'Sessions', 'ga:bounceRate': 'Bounce Rate', 'ga:pageviews': 'Page Views', 'ga:uniquepageviews' : 'Unique Page Views', 'ga:timeonpage': 'Time on Page', 'ga:avgsessionDuration': 'Avg. Session Duration'})\n",
        "#Date formatting\n",
        "df['Date'] = pd.to_datetime(df['Date'])\n",
        "\n",
        "#Category \n",
        "\n",
        "df['Category'] = np.where(df['Campaign'].str.contains('10112001'), 'Medicare', \"Non Medicare\")\n",
        "second_column = df.pop('Category')\n",
        "df.insert(1, 'Category', second_column)\n",
        "#Tactic Name\n",
        "df[\"Tactic Name\"] = \"\"\n",
        "fourth_column = df.pop('Tactic Name')\n",
        "df.insert(3, 'Tactic Name', fourth_column)\n",
        "\n",
        "\n",
        "#Rules\n",
        "df.loc[df.Campaign.str.contains('10112001'), \"Tactic Name\"] = \"Medicare LC/LSE Email Campaign - Tactic 10112001\"\n",
        "df.loc[df.Campaign.str.contains('00152102'), \"Tactic Name\"] = \"Lead Nurturing - Monthly Newsletter Campaign - Shop IFP ENG - Tactic 00152102\"\n",
        "df.loc[df.Campaign.str.contains('00152104'), \"Tactic Name\"] = \"Lead Nurturing - Monthly Newsletter Campaign - Shop IFP SPA - Tactic 00152104\"\n",
        "df.loc[df.Campaign.str.contains('00152103'), \"Tactic Name\"] = \"Lead Nurturing - Monthly Newsletter Campaign - VCO - Tactic 00152103\"\n",
        "df.loc[df.Campaign.str.contains('00152105'), \"Tactic Name\"] = \"Lead Nurturing - Monthly Newsletter Campaign - VCO SPA - Tactic 00152105\"\n",
        "df.loc[df.Campaign.str.contains('14731901'), \"Tactic Name\"] = \"Lead Nurturing Still Shopping Re-engagement Campaign - Tactic 14731901\"\n",
        "df[\"VS Visits\"] = \"0\"\n",
        "df[\"VS Appointments\"] = \"0\"\n",
        "df[\"Events\"] = \"0\"\n",
        "#Sort\n",
        "df.sort_values(by='Date', ascending=True)\n",
        "dfLSE = df\n",
        "dfLSE\n"
      ]
    },
    {
      "cell_type": "code",
      "execution_count": null,
      "metadata": {
        "id": "hUHeGCc0KR5M"
      },
      "outputs": [],
      "source": [
        ""
      ]
    },
    {
      "cell_type": "code",
      "execution_count": null,
      "metadata": {
        "id": "TecGR2dlKR5N"
      },
      "outputs": [],
      "source": [
        "dfLSE.to_excel (r'C:\\Users\\snuthanapati\\OneDrive - Healthfirst\\Desktop\\Medicare_LSE0209.xlsx', index = False, header=True)"
      ]
    },
    {
      "cell_type": "code",
      "execution_count": null,
      "metadata": {
        "id": "1UiDV3uKKR5N"
      },
      "outputs": [],
      "source": [
        "#Data for Lead Nurturing Drip \n",
        "from apiclient.discovery import build\n",
        "from oauth2client.service_account import ServiceAccountCredentials\n",
        "\n",
        "SCOPES = ['https://www.googleapis.com/auth/analytics.readonly']\n",
        "KEY_FILE_LOCATION = './sivatest-328113-e20c58bed4da.json'\n",
        "VIEW_ID = '189412434'\n",
        "\n",
        "def initialize_analyticsreporting():\n",
        "  credentials = ServiceAccountCredentials.from_json_keyfile_name(\n",
        "      KEY_FILE_LOCATION, SCOPES)\n",
        "  analytics = build('analyticsreporting', 'v4', credentials=credentials)\n",
        "  return analytics\n",
        "\n",
        "#Get one report page\n",
        "def get_report(analytics, pageTokenVar):\n",
        "  return analytics.reports().batchGet(\n",
        "      body={\n",
        "        'reportRequests': [\n",
        "        {\n",
        "          'viewId': VIEW_ID,\n",
        "          'dateRanges': [{'startDate': '2022-02-09', 'endDate': 'yesterday'}],\n",
        "          'metrics': [{'expression': 'ga:sessions'}, {'expression': 'ga:bounces'}, {'expression': 'ga:pageviews'}, {'expression': 'ga:uniquepageviews'},{'expression': 'ga:timeonpage'}, {'expression': 'ga:avgsessionDuration'}],\n",
        "          'dimensions': [{'name': 'ga:date'}, {'name': 'ga:campaign'}, {'name': 'ga:pagepath'}, {'name': 'ga:devicecategory'}, {'name': 'ga:usertype'}],\n",
        "             \"dimensionFilterClauses\":[\n",
        "                {\n",
        "                   \"operator\":\"AND\",\n",
        "                   \"filters\":[\n",
        "                      {\n",
        "                         \"dimensionName\":\"ga:campaign\",\n",
        "                         \"operator\":\"REGEXP\",\n",
        "                         \"expressions\":[\n",
        "                            'drip'\n",
        "                        ]\n",
        "                      }\n",
        "                   ]\n",
        "                }\n",
        "             ],\n",
        "        }]\n",
        "      }\n",
        "  ).execute()\n",
        "    \n",
        "def handle_report(analytics,pagetoken,rows):  \n",
        "    response = get_report(analytics, pagetoken)\n",
        "\n",
        "    #Header, Dimentions Headers, Metric Headers \n",
        "    columnHeader = response.get(\"reports\")[0].get('columnHeader', {})\n",
        "    dimensionHeaders = columnHeader.get('dimensions', [])\n",
        "    metricHeaders = columnHeader.get('metricHeader', {}).get('metricHeaderEntries', [])\n",
        "\n",
        "    #Pagination\n",
        "    pagetoken = response.get(\"reports\")[0].get('nextPageToken', None)\n",
        "    \n",
        "    #Rows\n",
        "    rowsNew = response.get(\"reports\")[0].get('data', {}).get('rows', [])\n",
        "    rows = rows + rowsNew\n",
        "    print(\"len(rows): \" + str(len(rows)))\n",
        "\n",
        "    #Recursivly query next page\n",
        "    if pagetoken != None:\n",
        "        return handle_report(analytics,pagetoken,rows)\n",
        "    else:\n",
        "        #nicer results\n",
        "        nicerows=[]\n",
        "        for row in rows:\n",
        "            dic={}\n",
        "            dimensions = row.get('dimensions', [])\n",
        "            dateRangeValues = row.get('metrics', [])\n",
        "\n",
        "            for header, dimension in zip(dimensionHeaders, dimensions):\n",
        "                dic[header] = dimension\n",
        "\n",
        "            for i, values in enumerate(dateRangeValues):\n",
        "                for metric, value in zip(metricHeaders, values.get('values')):\n",
        "                    if ',' in value or ',' in value:\n",
        "                        dic[metric.get('name')] = float(value)\n",
        "                    if '.' in value or '.' in value:\n",
        "                        dic[metric.get('name')] = str(value)\n",
        "                    else:\n",
        "                        dic[metric.get('name')] = int(value)\n",
        "            nicerows.append(dic)\n",
        "        return nicerows\n",
        "\n",
        "#Start\n",
        "def main():    \n",
        "    analytics = initialize_analyticsreporting()\n",
        "    \n",
        "    global dfanalytics\n",
        "    dfanalytics = []\n",
        "\n",
        "    rows = []\n",
        "    rows = handle_report(analytics,'0',rows)\n",
        "\n",
        "    dfanalytics = pd.DataFrame(list(rows))\n",
        "\n",
        "if __name__ == '__main__':\n",
        "  main()"
      ]
    },
    {
      "cell_type": "code",
      "execution_count": null,
      "metadata": {
        "id": "3NXFV177KR5O"
      },
      "outputs": [],
      "source": [
        "#Rename\n",
        "df = dfanalytics.rename(columns={'ga:bounces':'Bounces','ga:date' : 'Date', 'ga:campaign' : 'Campaign','ga:pagepath': 'Page', 'ga:usertype': 'User Type', 'ga:devicecategory': 'Device Category', 'ga:sessions': 'Sessions', 'ga:bounceRate': 'Bounce Rate', 'ga:pageviews': 'Page Views', 'ga:uniquepageviews' : 'Unique Page Views', 'ga:timeonpage': 'Time on Page', 'ga:avgsessionDuration': 'Avg. Session Duration'})\n",
        "#Date\n",
        "df['Date'] = pd.to_datetime(df['Date'])\n",
        "\n",
        "#Category\n",
        "df['Category'] = np.where(df['Campaign'].str.contains('drip'), 'Non Medicare', \"Medicare\")\n",
        "second_column = df.pop('Category')\n",
        "df.insert(1, 'Category', second_column)\n",
        "#Tactic Name\n",
        "df[\"Tactic Name\"] = \"\"\n",
        "fourth_column = df.pop('Tactic Name')\n",
        "df.insert(3, 'Tactic Name', fourth_column)\n",
        "\n",
        "\n",
        "#Rules\n",
        "df.loc[df.Campaign.str.contains('drip'), \"Tactic Name\"] = \"Lead Nurturing Drip Campaign - Tactic 02032001\"\n",
        "df[\"VS Visits\"] = \"0\"\n",
        "df[\"VS Appointments\"] = \"0\"\n",
        "df[\"Events\"] = \"0\"\n",
        "#Sort\n",
        "df.sort_values(by='Sessions', ascending=False)\n",
        "dfDrip = df\n",
        "dfDrip"
      ]
    },
    {
      "cell_type": "code",
      "execution_count": null,
      "metadata": {
        "scrolled": true,
        "id": "Ba72sNA1KR5P"
      },
      "outputs": [],
      "source": [
        "dffinal = dfLSE.append(dfDrip)\n",
        "dffinal"
      ]
    },
    {
      "cell_type": "code",
      "execution_count": null,
      "metadata": {
        "id": "_kxdBnh6KR5T"
      },
      "outputs": [],
      "source": [
        "dffinal.to_excel (r'C:\\Users\\snuthanapati\\OneDrive - Healthfirst\\Desktop\\MNM0202.xlsx', index = False, header=True)"
      ]
    },
    {
      "cell_type": "code",
      "execution_count": null,
      "metadata": {
        "id": "KrkdR5_kKR5T"
      },
      "outputs": [],
      "source": [
        "pip install \"redshift_connector[full]\""
      ]
    },
    {
      "cell_type": "code",
      "execution_count": null,
      "metadata": {
        "id": "gXhnbpeTKR5U"
      },
      "outputs": [],
      "source": [
        "import redshift_connector\n",
        "import pandas as pd \n",
        "import numpy as np"
      ]
    },
    {
      "cell_type": "code",
      "execution_count": null,
      "metadata": {
        "id": "A6t9w0dEKR5b"
      },
      "outputs": [],
      "source": [
        "conn = redshift_connector.connect(\n",
        "    host='cdp-redshift-prd.cxkofvnakzzx.us-east-1.redshift.amazonaws.com',\n",
        "    port=5439,\n",
        "    database='cdp',\n",
        "    user='cdp_read_all_act',\n",
        "    password='r3adDataPROD'\n",
        " )"
      ]
    },
    {
      "cell_type": "code",
      "execution_count": null,
      "metadata": {
        "id": "JueAHuhcKR5c"
      },
      "outputs": [],
      "source": [
        "query = \"Select received_at, context_campaign_name, event_text, context_page_url FROM cdp.prod_learn_shop_enroll.tracks where (context_campaign_name like '%10112001%' or context_campaign_name like '%4211501%' or context_campaign_name like '%00152104%' or context_campaign_name like '%00152103%' or context_campaign_name like '%00152105%' or context_campaign_name like '%00152102%' or context_campaign_name like '%02032001%' or context_campaign_name like '%leadnurturingdrip%' or context_campaign_name like '%14731901%') AND EVENT not like '%viewed%'\"\n",
        "Events2 = pd.read_sql(query, conn)\n",
        "Events2"
      ]
    },
    {
      "cell_type": "code",
      "execution_count": null,
      "metadata": {
        "id": "iZJk2fqpKR5c"
      },
      "outputs": [],
      "source": [
        "query = \"Select received_at, context_campaign_name, event_text, context_page_url FROM cdp.prod_healthfirst_org.tracks where (context_campaign_name like '%10112001%' or context_campaign_name like '%4211501%' or context_campaign_name like '%00152104%' or context_campaign_name like '%00152103%' or context_campaign_name like '%00152105%' or context_campaign_name like '%00152102%' or context_campaign_name like '%02032001%' or context_campaign_name like '%leadnurturingdrip%' or context_campaign_name like '%14731901%') AND EVENT not like '%viewed%'\"\n",
        "Events2 = pd.read_sql(query, conn)\n",
        "Events2"
      ]
    },
    {
      "cell_type": "code",
      "execution_count": null,
      "metadata": {
        "id": "B-t7-5Z3KR5d"
      },
      "outputs": [],
      "source": [
        ""
      ]
    }
  ],
  "metadata": {
    "kernelspec": {
      "display_name": "Python 3",
      "language": "python",
      "name": "python3"
    },
    "language_info": {
      "codemirror_mode": {
        "name": "ipython",
        "version": 3
      },
      "file_extension": ".py",
      "mimetype": "text/x-python",
      "name": "python",
      "nbconvert_exporter": "python",
      "pygments_lexer": "ipython3",
      "version": "3.8.5"
    },
    "colab": {
      "name": "Email Journey Query (GA to Python).ipynb",
      "provenance": [],
      "collapsed_sections": [],
      "include_colab_link": true
    }
  },
  "nbformat": 4,
  "nbformat_minor": 0
}