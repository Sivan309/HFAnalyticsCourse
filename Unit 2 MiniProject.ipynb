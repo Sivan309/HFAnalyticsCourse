{
 "cells": [
  {
   "cell_type": "code",
   "execution_count": 1,
   "id": "0e93e2ae",
   "metadata": {},
   "outputs": [
    {
     "name": "stdout",
     "output_type": "stream",
     "text": [
      "Number:12\n",
      "Number is Even\n",
      "This number is a multiple of 4\n",
      "\n",
      "Check another number(Y/N)\n",
      "Answer: Y\n",
      "Number:3\n",
      "Number is Odd\n"
     ]
    }
   ],
   "source": [
    "def num():\n",
    "    number = int(input('Number:'))\n",
    "    if (number%2) == 0:\n",
    "        print('Number is Even')\n",
    "    else:\n",
    "        print('Number is Odd')\n",
    "    if (number%4 == 0):\n",
    "        print(\"This number is a multiple of 4\")\n",
    "num()\n",
    "\n",
    "print('\\nCheck another number(Y/N)')\n",
    "answer = input('Answer: ')\n",
    "if answer == 'Y': \n",
    "    num()\n",
    "else:\n",
    "    print('Thank You')\n",
    "\n"
   ]
  },
  {
   "cell_type": "code",
   "execution_count": 4,
   "id": "021c9cfe",
   "metadata": {},
   "outputs": [
    {
     "name": "stdout",
     "output_type": "stream",
     "text": [
      "Check if a/b divides into a whole number\n",
      "Input a number for a: 12\n",
      "Input a number for b: 3\n",
      "a/b is 4.0\n"
     ]
    }
   ],
   "source": [
    "def check():\n",
    "    print('Check if a/b divides into a whole number')\n",
    "    check = int(input('Input a number for a: '))\n",
    "    num = int(input('Input a number for b: '))\n",
    "\n",
    "    if (check%num)==0:\n",
    "        print('a/b is ' + str(check/num))\n",
    "    \n",
    "    else:\n",
    "        print('These numbers do not divide into a whole number')\n",
    "\n",
    "check()"
   ]
  }
 ],
 "metadata": {
  "kernelspec": {
   "display_name": "Python 3 (ipykernel)",
   "language": "python",
   "name": "python3"
  },
  "language_info": {
   "codemirror_mode": {
    "name": "ipython",
    "version": 3
   },
   "file_extension": ".py",
   "mimetype": "text/x-python",
   "name": "python",
   "nbconvert_exporter": "python",
   "pygments_lexer": "ipython3",
   "version": "3.9.7"
  }
 },
 "nbformat": 4,
 "nbformat_minor": 5
}
